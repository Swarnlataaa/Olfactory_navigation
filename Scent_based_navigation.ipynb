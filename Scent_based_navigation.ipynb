{
  "nbformat": 4,
  "nbformat_minor": 0,
  "metadata": {
    "colab": {
      "provenance": [],
      "authorship_tag": "ABX9TyO+iUBU4MZs6uyZbmcNjShr",
      "include_colab_link": true
    },
    "kernelspec": {
      "name": "python3",
      "display_name": "Python 3"
    },
    "language_info": {
      "name": "python"
    }
  },
  "cells": [
    {
      "cell_type": "markdown",
      "metadata": {
        "id": "view-in-github",
        "colab_type": "text"
      },
      "source": [
        "<a href=\"https://colab.research.google.com/github/Swarnlataaa/Olfactory_navigation/blob/main/Scent_based_navigation.ipynb\" target=\"_parent\"><img src=\"https://colab.research.google.com/assets/colab-badge.svg\" alt=\"Open In Colab\"/></a>"
      ]
    },
    {
      "cell_type": "code",
      "execution_count": null,
      "metadata": {
        "id": "sFZOe44PAx9e"
      },
      "outputs": [],
      "source": [
        "# Define a virtual environment with scent locations\n",
        "scent_locations = {\n",
        "    'Entrance': {'scent': 'Fresh Air'},\n",
        "    'Food Court': {'scent': 'Cooked Food'},\n",
        "    'Clothing Store': {'scent': 'New Clothes'},\n",
        "    'Bookstore': {'scent': 'Paper and Ink'},\n",
        "    'Restroom': {'scent': 'Soap'},\n",
        "    'Exit': {'scent': 'Exit Sign'}\n",
        "}\n"
      ]
    },
    {
      "cell_type": "code",
      "source": [
        "# Simulate user's initial location and destination\n",
        "user_location = 'Entrance'\n",
        "destination = 'Food Court'\n"
      ],
      "metadata": {
        "id": "RjL3_vgYBAt0"
      },
      "execution_count": null,
      "outputs": []
    },
    {
      "cell_type": "code",
      "source": [
        "# Scent-based navigation logic\n",
        "def navigate_to_destination(user_location, destination):\n",
        "    path = [user_location]\n",
        "    current_location = user_location\n",
        "\n",
        "    while current_location != destination:\n",
        "        # In a real system, you'd obtain scent data from sensors\n",
        "        current_scent = scent_locations[current_location]['scent']\n",
        "\n",
        "        # Find the next location with a matching scent\n",
        "        next_location = None\n",
        "        for location, info in scent_locations.items():\n",
        "            if info['scent'] == current_scent and location != current_location:\n",
        "                next_location = location\n",
        "                break\n",
        "\n",
        "        if next_location is None:\n",
        "            print(\"No matching scent found. Stuck!\")\n",
        "            break\n",
        "\n",
        "        path.append(next_location)\n",
        "        current_location = next_location\n",
        "\n",
        "    return path\n",
        "\n",
        "\n"
      ],
      "metadata": {
        "id": "zu3edW9iBGKV"
      },
      "execution_count": null,
      "outputs": []
    },
    {
      "cell_type": "code",
      "source": [
        "# Navigate to the destination\n",
        "path = navigate_to_destination(user_location, destination)\n",
        "print(f\"Navigation Path: {path}\")"
      ],
      "metadata": {
        "id": "n4FDqZhcBItm"
      },
      "execution_count": null,
      "outputs": []
    }
  ]
}